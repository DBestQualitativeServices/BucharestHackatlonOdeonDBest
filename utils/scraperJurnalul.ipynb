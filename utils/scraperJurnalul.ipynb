{
 "cells": [
  {
   "cell_type": "code",
   "execution_count": 22,
   "id": "796f738664ce80f9",
   "metadata": {
    "collapsed": false,
    "ExecuteTime": {
     "end_time": "2024-04-13T23:05:51.730355600Z",
     "start_time": "2024-04-13T23:05:51.724736300Z"
    }
   },
   "outputs": [],
   "source": [
    "import json\n",
    "\n",
    "import requests\n",
    "from bs4 import BeautifulSoup\n",
    "from models import SourceArticle\n",
    "from repository import ArticleRepository\n",
    "from datetime import datetime\n",
    "import pprint"
   ]
  },
  {
   "cell_type": "code",
   "outputs": [],
   "source": [
    "url = \"https://jurnalul.ro/rss/stiri.xml\"\n",
    "\n",
    "# Fetch the content from the URL\n",
    "response = requests.get(url)\n",
    "content = response.content\n",
    "\n",
    "# Parse the XML content\n",
    "soup = BeautifulSoup(content, 'xml')"
   ],
   "metadata": {
    "collapsed": false,
    "ExecuteTime": {
     "end_time": "2024-04-13T23:05:51.811014200Z",
     "start_time": "2024-04-13T23:05:51.729355300Z"
    }
   },
   "id": "f8c589731c87bcc2",
   "execution_count": 23
  },
  {
   "cell_type": "code",
   "outputs": [
    {
     "name": "stdout",
     "output_type": "stream",
     "text": [
      "Len:  50\n",
      "<guid>https://jurnalul.ro/v/962169</guid>\n"
     ]
    },
    {
     "data": {
      "text/plain": "'https://jurnalul.ro/v/962169'"
     },
     "execution_count": 24,
     "metadata": {},
     "output_type": "execute_result"
    }
   ],
   "source": [
    "# Loop through each item and print the title and link\n",
    "items = soup.find_all('guid')\n",
    "\n",
    "news_items = []\n",
    "print(\"Len: \", len(items))\n",
    "print(items[0])\n",
    "items[0].getText()"
   ],
   "metadata": {
    "collapsed": false,
    "ExecuteTime": {
     "end_time": "2024-04-13T23:05:51.817119400Z",
     "start_time": "2024-04-13T23:05:51.812014700Z"
    }
   },
   "id": "e4a6ba8b177b6686",
   "execution_count": 24
  },
  {
   "cell_type": "code",
   "outputs": [
    {
     "name": "stdout",
     "output_type": "stream",
     "text": [
      "[{'title': 'Fierbe Orientul Mijlociu: Iran a atacat Israelul! Zeci de drone se îndreaptă spre Țara Sfântă. Oamenii fug în buncăre', 'content': 'Iran a lansat un atac cu zeci de drone asupra Israelului. \"Suntem în legătura cu Statele Unite și aliații noștri pentru a intercepta aceste drone\", au declarat forțele armate israeliene IDF.Update duminică\\xa000:39\\xa0Surse din Irak susțin că o parte din dronele lansate de\\xa0Iran\\xa0spre Isarel se prăbușesc pe teritoriul țării lor.Update duminică\\xa000:38\\xa0Avioane de vânătoare americane, iordaniene, israeliene și britanice se află pe cerul Orientului Mijlociu pentru a intercepta dronele.SUA estimează că atacul va dura câteva ore, având în vedere valurile de lansări care vor ajunge în Israel în diferite momente ale nopţiiUpdate duminică\\xa000:22\\xa0Peste 100 de drone iraniene au fost lansate spre Israel.\\xa0Surse iraniene spun că atacul implică și rachete.Un oficial american de rang înalt a declarat, însă, pentru ABC News că acum se crede că vor fi între 400 și 500 de drone și rachete lansate spre Israel din Irak, Siria, sudul Libanului și Houthis, dar că cea mai mare parte va fi lansată din Iran.Dronele au început să fie interceptate în spațiul aerian sirian și iordanianApărarea aeriană din întreaga regiune este în alertă maximă, mai multe țări și-au închis spațiul aerian.\\xa0Iranul amenință țările care își deschid spațiul aerian pentru orice potențial atac israelian.Update duminică\\xa000:20\\xa0Mai multe rachete lansate din Iran către Israel au fost interceptate deasupra Iordaniei.Prim-ministrul Benjamin Netanyahu a convoacat\\xa0o reuniune a cabinetului de război la sediul militar Kiryat din Tel Aviv. O fotografie publicată de PMO îl arată pe Netanyahu așezat cu ministrul Apărării Yoav Gallant, ministrul Benny Gantz, șeful IDF Herzli Halevi, consilierul pentru securitate națională Tzachi Hanegbi și alți înalți oficiali.Update 23:58\\xa0Ministrul Apărării din Iran a declarat:\\xa0\"orice țară care își va deschide spațiul aerian sau teritoriul pentru ca Israel să atace Iranul se va confrunta cu răspunsul nostru decisiv\".Update 23:52\\xa0Corpul Gărzii Revoluționare Islamice a anunțat tragerea a zeci de drone și rachete către teritoriile și pozițiile ocupate ale regimului sionist.În avizul IRGC se precizează: \"Ca răspuns la numeroasele crime ale regimului sionist, inclusiv atacul asupra secției consulare a ambasadei Iranului la Damasc și martiriul unui grup de comandanți și consilieri militari ai țării noastre în Siria, Forța Aerospațială IRGC a tras zeci de avioane în ținte specifice din teritoriile ocupate. Rachete și drone au lovit.\"Update 23:45\\xa0Surse militare israeliene anunță că au fost detectate și rachete de crozieră care se îndreaptă către Israel, dinspre Iran.Update 23:35\\xa0Yemen a\\xa0lansat și el drone spre Israel, potrivit presei locale.Autoritatea Aeroporturilor din Israel a anunțat că spațiul aerian israelian se va închide începând cu ora locală 24:30.Iordania a decretat stare de urgență și spune că este pregătită să doboare orice dronă care îi încalcă spațiul aerian.Iranul a lansat un atac împotriva Israelului cu zeci de drone, sâmbătă seară.Un român aflat în Israel a declarat, pentru Antena 3 CNN, că oamenii se grăbesc să se adăpostească în buncăre.Purtătorul de cuvânt al IDF, contraamiralul Daniel Hagari, a confirmat\\xa0într-o declarație de presă că zeci de drone lansate din Iran se îndreaptă spre Israel.El spune că forțele aeriene israeliene urmăresc dronele, menționând totodată că acestea vor avea nevoie de câteva ore pentru a ajunge în țară.Hagari spune că vor exista întreruperi GPS în timp ce armata lucrează pentru a intercepta dronele.În cazul în care vor exista atacuri suplimentare, care necesită un avertisment separat, Hagari spune că IDF va informa publicul.Sirenele vor suna doar dacă dronele vor intra în spațiul aerian israelian, în locațiile relevante, spune Hagari. El spune că IDF va lucra pentru a intercepta țintele cât mai devreme posibil.În urma atacului, Irak a anunțat că își închide spațiul aerian.Premierul israelian Benjamin Netanyahu a declarat că sistemele de apărare ale țării au fost desfășurate și că forțele armate ale Israelului sunt pregătite.\"Am stabilit un principiu clar - oricine ne rănește, noi îl rănim. Ne vom proteja de orice amenințare și o vom face cu răceală și hotărâre\", a spus el.Joe Biden se grăbea înapoi la Casa Albă sâmbătă după-amiază dintr-o excursie de weekend în Delaware, în timp ce Iranul a lansat zeci de drone împotriva Israelului.Se înțelegea că dronele se îndreptau spre Israel, la doar câteva ore după ce Casa Albă a anunțat pentru prima dată că președintele SUA se întoarce la Washington „pentru a se consulta cu echipa sa națională de securitate despre evenimentele din Orientul Mijlociu”, pe fondul tensiunii crescute dintre Israel și Iran. .Președintele SUA trebuia să-și petreacă weekendul în Delaware, la reședința sa din Rehoboth Beach, dar sâmbătă după-amiaza devreme a plecat intempestiv pentru a se întoarce la Casa Albă.››› Vezi galeria foto ‹‹‹Urmăriți Jurnalul și pe Google News', 'url': 'https://jurnalul.ro/rss/stiri.xml'}]\n"
     ]
    }
   ],
   "source": [
    "import json\n",
    "\n",
    "news_items = []\n",
    "for item in items[3]:\n",
    "    new_url = item.getText()\n",
    "    responseArticle = requests.get(new_url)\n",
    "    bs_content = BeautifulSoup(responseArticle.content, 'html')\n",
    "    paragraphs = bs_content.find_all('p')\n",
    "    news = {}\n",
    "    for json_ld in bs_content.find_all(\"script\", type=\"application/ld+json\"):\n",
    "        json_content = json_ld.getText()\n",
    "        json_load = json.loads(json_content)\n",
    "        if json_load.get('type') != 'NewsArticle': continue\n",
    "        news['headline'] = json_load.get('headline')\n",
    "        news['date_uploaded'] = datetime.strptime(json_load.get('datePublished'), \"%Y-%m-%dT%H:%M:%S%z\")\n",
    "    \n",
    "    news['title'] = bs_content.find('title').getText()\n",
    "    news['content'] = ''.join(paragraph.getText() for paragraph in paragraphs)\n",
    "    news['url'] = url\n",
    "    news_items.append(news)\n"
   ],
   "metadata": {
    "collapsed": false,
    "ExecuteTime": {
     "end_time": "2024-04-13T23:38:10.451122100Z",
     "start_time": "2024-04-13T23:38:10.250452600Z"
    }
   },
   "id": "be7e29b23c1e17f1",
   "execution_count": 40
  },
  {
   "cell_type": "code",
   "outputs": [
    {
     "name": "stdout",
     "output_type": "stream",
     "text": [
      "36\n",
      "https://jurnalul.ro/v/962173\n",
      "['Iran a lansat un atac cu zeci de drone asupra Israelului. \"Suntem în legătura cu Statele Unite și aliații noștri pentru a intercepta aceste drone\", au declarat forțele armate israeliene IDF.', 'Update duminică\\xa000:39\\xa0Surse din Irak susțin că o parte din dronele lansate de\\xa0Iran\\xa0spre Isarel se prăbușesc pe teritoriul țării lor.', 'Update duminică\\xa000:38\\xa0Avioane de vânătoare americane, iordaniene, israeliene și britanice se află pe cerul Orientului Mijlociu pentru a intercepta dronele.', 'SUA estimează că atacul va dura câteva ore, având în vedere valurile de lansări care vor ajunge în Israel în diferite momente ale nopţii', 'Update duminică\\xa000:22\\xa0Peste 100 de drone iraniene au fost lansate spre Israel.\\xa0Surse iraniene spun că atacul implică și rachete.', 'Un oficial american de rang înalt a declarat, însă, pentru ABC News că acum se crede că vor fi între 400 și 500 de drone și rachete lansate spre Israel din Irak, Siria, sudul Libanului și Houthis, dar că cea mai mare parte va fi lansată din Iran.', 'Dronele au început să fie interceptate în spațiul aerian sirian și iordanian', '', 'Apărarea aeriană din întreaga regiune este în alertă maximă, mai multe țări și-au închis spațiul aerian.\\xa0', 'Iranul amenință țările care își deschid spațiul aerian pentru orice potențial atac israelian.', 'Update duminică\\xa000:20\\xa0Mai multe rachete lansate din Iran către Israel au fost interceptate deasupra Iordaniei.', '', 'Prim-ministrul Benjamin Netanyahu a convoacat\\xa0o reuniune a cabinetului de război la sediul militar Kiryat din Tel Aviv. O fotografie publicată de PMO îl arată pe Netanyahu așezat cu ministrul Apărării Yoav Gallant, ministrul Benny Gantz, șeful IDF Herzli Halevi, consilierul pentru securitate națională Tzachi Hanegbi și alți înalți oficiali.', 'Update 23:58\\xa0Ministrul Apărării din Iran a declarat:\\xa0\"orice țară care își va deschide spațiul aerian sau teritoriul pentru ca Israel să atace Iranul se va confrunta cu răspunsul nostru decisiv\".', 'Update 23:52\\xa0Corpul Gărzii Revoluționare Islamice a anunțat tragerea a zeci de drone și rachete către teritoriile și pozițiile ocupate ale regimului sionist.', 'În avizul IRGC se precizează: \"Ca răspuns la numeroasele crime ale regimului sionist, inclusiv atacul asupra secției consulare a ambasadei Iranului la Damasc și martiriul unui grup de comandanți și consilieri militari ai țării noastre în Siria, Forța Aerospațială IRGC a tras zeci de avioane în ținte specifice din teritoriile ocupate. Rachete și drone au lovit.\"', 'Update 23:45\\xa0Surse militare israeliene anunță că au fost detectate și rachete de crozieră care se îndreaptă către Israel, dinspre Iran.', 'Update 23:35\\xa0Yemen a\\xa0lansat și el drone spre Israel, potrivit presei locale.', 'Autoritatea Aeroporturilor din Israel a anunțat că spațiul aerian israelian se va închide începând cu ora locală 24:30.', 'Iordania a decretat stare de urgență și spune că este pregătită să doboare orice dronă care îi încalcă spațiul aerian.', 'Iranul a lansat un atac împotriva Israelului cu zeci de drone, sâmbătă seară.', 'Un român aflat în Israel a declarat, pentru Antena 3 CNN, că oamenii se grăbesc să se adăpostească în buncăre.', 'Purtătorul de cuvânt al IDF, contraamiralul Daniel Hagari, a confirmat\\xa0într-o declarație de presă că zeci de drone lansate din Iran se îndreaptă spre Israel.', 'El spune că forțele aeriene israeliene urmăresc dronele, menționând totodată că acestea vor avea nevoie de câteva ore pentru a ajunge în țară.', 'Hagari spune că vor exista întreruperi GPS în timp ce armata lucrează pentru a intercepta dronele.', 'În cazul în care vor exista atacuri suplimentare, care necesită un avertisment separat, Hagari spune că IDF va informa publicul.', 'Sirenele vor suna doar dacă dronele vor intra în spațiul aerian israelian, în locațiile relevante, spune Hagari. El spune că IDF va lucra pentru a intercepta țintele cât mai devreme posibil.', 'În urma atacului, Irak a anunțat că își închide spațiul aerian.', 'Premierul israelian Benjamin Netanyahu a declarat că sistemele de apărare ale țării au fost desfășurate și că forțele armate ale Israelului sunt pregătite.', '\"Am stabilit un principiu clar - oricine ne rănește, noi îl rănim. Ne vom proteja de orice amenințare și o vom face cu răceală și hotărâre\", a spus el.', 'Joe Biden se grăbea înapoi la Casa Albă sâmbătă după-amiază dintr-o excursie de weekend în Delaware, în timp ce Iranul a lansat zeci de drone împotriva Israelului.', 'Se înțelegea că dronele se îndreptau spre Israel, la doar câteva ore după ce Casa Albă a anunțat pentru prima dată că președintele SUA se întoarce la Washington „pentru a se consulta cu echipa sa națională de securitate despre evenimentele din Orientul Mijlociu”, pe fondul tensiunii crescute dintre Israel și Iran. .', 'Președintele SUA trebuia să-și petreacă weekendul în Delaware, la reședința sa din Rehoboth Beach, dar sâmbătă după-amiaza devreme a plecat intempestiv pentru a se întoarce la Casa Albă.', '››› Vezi galeria foto ‹‹‹', '', 'Urmăriți Jurnalul și pe Google News']\n"
     ]
    }
   ],
   "source": [
    "\n",
    "#     news = {}\n",
    "#     \n",
    "#     for key in ['title', 'description', 'thumbnail', 'content']:\n",
    "#         otherOption = key + \":encoded\" if not item.find(key) else key\n",
    "#         news[key] = item.find(otherOption).text if item.find(otherOption) else f'No {key}'\n",
    "#         # if \"encoded\" in keyOption: break\n",
    "#     news['date_uploaded'] = item.find('pubDate').text if item.find('pubDate') else datetime.now()\n",
    "#     news['url'] = item.find('link').text if item.find('link') else None\n",
    "#     news['content'] = f\"<title>{news['title']}</title>{news['description']}\"\n",
    "#     news_items.append(news)\n",
    "# pprint.pprint(news_items[0])\n",
    "# source_articles = [SourceArticle(\n",
    "#     url=news.get('url'),\n",
    "#     content=news.get('content'),\n",
    "#     date_uploaded=news.get('date_uploaded')\n",
    "# ) for news in news_items]\n",
    "# #\n",
    "# repo = ArticleRepository()\n",
    "# # succes_insert,result = repo.add_articles(source_articles[0:5])\n",
    "# # print(len(result))\n",
    "# print('---')\n",
    "\n",
    "\n",
    "\n"
   ],
   "metadata": {
    "collapsed": true,
    "ExecuteTime": {
     "end_time": "2024-04-13T23:06:48.817497600Z",
     "start_time": "2024-04-13T23:06:48.685530900Z"
    }
   },
   "id": "initial_id",
   "execution_count": 28
  },
  {
   "cell_type": "code",
   "outputs": [],
   "source": [],
   "metadata": {
    "collapsed": false,
    "ExecuteTime": {
     "end_time": "2024-04-13T23:06:03.002710400Z",
     "start_time": "2024-04-13T23:06:02.997198200Z"
    }
   },
   "id": "bff3efaa5bef7c2d",
   "execution_count": 26
  }
 ],
 "metadata": {
  "kernelspec": {
   "display_name": "Python 3",
   "language": "python",
   "name": "python3"
  },
  "language_info": {
   "codemirror_mode": {
    "name": "ipython",
    "version": 2
   },
   "file_extension": ".py",
   "mimetype": "text/x-python",
   "name": "python",
   "nbconvert_exporter": "python",
   "pygments_lexer": "ipython2",
   "version": "2.7.6"
  }
 },
 "nbformat": 4,
 "nbformat_minor": 5
}
